{
  "nbformat": 4,
  "nbformat_minor": 0,
  "metadata": {
    "colab": {
      "provenance": []
    },
    "kernelspec": {
      "name": "python3",
      "display_name": "Python 3"
    },
    "language_info": {
      "name": "python"
    }
  },
  "cells": [
    {
      "cell_type": "code",
      "source": [
        "'''The machine learning model in this code is designed for the automotive field, specifically for predicting the fuel efficiency (miles per gallon, MPG) of vehicles.\n",
        "Here's how it fits into the automotive field:\n",
        "\n",
        "1. **Predicting Fuel Efficiency**: The model uses features like displacement, horsepower, weight, and acceleration of vehicles\n",
        "to predict their fuel efficiency (MPG). This prediction can be valuable for various stakeholders in the automotive industry, including manufacturers,\n",
        "researchers, policymakers, and consumers.\n",
        "\n",
        "2. **Improving Vehicle Design**: By understanding how different factors affect fuel efficiency, manufacturers can\n",
        "optimize vehicle design to produce more fuel-efficient cars. For example, they can adjust engine specifications, reduce vehicle weight, or\n",
        "enhance aerodynamics to improve MPG.\n",
        "\n",
        "3. **Consumer Guidance**: Consumers can use MPG predictions to make informed decisions when purchasing vehicles. Higher\n",
        " MPG often translates to lower fuel costs and reduced environmental impact, making it an important consideration for many car buyers.\n",
        "\n",
        "4. **Policy Development**: Policymakers can use insights from MPG predictions to develop regulations and\n",
        "incentives aimed at promoting the production and adoption of fuel-efficient vehicles. This can contribute to reducing greenhouse gas emissions and\n",
        " mitigating the environmental impact of transportation.\n",
        "\n",
        "Overall, this ML model serves as a tool to understand and optimize fuel efficiency in the automotive industry, addressing both economic and environmental concerns.'''"
      ],
      "metadata": {
        "colab": {
          "base_uri": "https://localhost:8080/",
          "height": 140
        },
        "id": "Mb48mTo1kcF6",
        "outputId": "18a24923-2548-42a5-a340-bc9e1c05ac61"
      },
      "execution_count": null,
      "outputs": [
        {
          "output_type": "execute_result",
          "data": {
            "text/plain": [
              "\"The machine learning model in this code is designed for the automotive field, specifically for predicting the fuel efficiency (miles per gallon, MPG) of vehicles.\\nHere's how it fits into the automotive field:\\n\\n1. **Predicting Fuel Efficiency**: The model uses features like displacement, horsepower, weight, and acceleration of vehicles\\nto predict their fuel efficiency (MPG). This prediction can be valuable for various stakeholders in the automotive industry, including manufacturers,\\nresearchers, policymakers, and consumers.\\n\\n2. **Improving Vehicle Design**: By understanding how different factors affect fuel efficiency, manufacturers can\\noptimize vehicle design to produce more fuel-efficient cars. For example, they can adjust engine specifications, reduce vehicle weight, or\\nenhance aerodynamics to improve MPG.\\n\\n3. **Consumer Guidance**: Consumers can use MPG predictions to make informed decisions when purchasing vehicles. Higher\\n MPG often translates to lower fuel costs and reduced environmental impact, making it an important consideration for many car buyers.\\n\\n4. **Policy Development**: Policymakers can use insights from MPG predictions to develop regulations and\\nincentives aimed at promoting the production and adoption of fuel-efficient vehicles. This can contribute to reducing greenhouse gas emissions and\\n mitigating the environmental impact of transportation.\\n\\nOverall, this ML model serves as a tool to understand and optimize fuel efficiency in the automotive industry, addressing both economic and environmental concerns.\""
            ],
            "application/vnd.google.colaboratory.intrinsic+json": {
              "type": "string"
            }
          },
          "metadata": {},
          "execution_count": 1
        }
      ]
    },
    {
      "cell_type": "code",
      "source": [
        "import pandas as pd\n",
        "import numpy as np\n",
        "import seaborn as sns\n",
        "import joblib\n",
        "from sklearn.preprocessing import StandardScaler, PolynomialFeatures\n",
        "from sklearn.model_selection import train_test_split\n",
        "from sklearn.linear_model import LinearRegression\n",
        "from sklearn.metrics import mean_absolute_error, mean_absolute_percentage_error, r2_score"
      ],
      "metadata": {
        "id": "Ww6CoW4Nkbrt"
      },
      "execution_count": null,
      "outputs": []
    },
    {
      "cell_type": "code",
      "source": [
        "df = pd.read_csv('https://github.com/YBI-Foundation/Dataset/raw/main/MPG.csv')"
      ],
      "metadata": {
        "id": "6NcgxAreuDzW"
      },
      "execution_count": null,
      "outputs": []
    },
    {
      "cell_type": "code",
      "source": [
        "# Data Preprocessing\n",
        "df = df.dropna()"
      ],
      "metadata": {
        "id": "lYXLZ7squPHp"
      },
      "execution_count": null,
      "outputs": []
    },
    {
      "cell_type": "code",
      "source": [
        "y = df['mpg']\n",
        "X = df[['displacement', 'horsepower', 'weight', 'acceleration']]"
      ],
      "metadata": {
        "id": "8XTaFxhwuUOd"
      },
      "execution_count": null,
      "outputs": []
    },
    {
      "cell_type": "code",
      "source": [
        "ss = StandardScaler()\n",
        "X = ss.fit_transform(X)\n",
        "\n",
        "# Splitting the dataset\n",
        "X_train, X_test, y_train, y_test = train_test_split(X, y, train_size=0.7, random_state=2529)"
      ],
      "metadata": {
        "id": "5tFZ3cxQuZ50"
      },
      "execution_count": null,
      "outputs": []
    },
    {
      "cell_type": "code",
      "source": [
        "# Linear Regression\n",
        "lr = LinearRegression()\n",
        "lr.fit(X_train, y_train)\n",
        "y_pred = lr.predict(X_test)"
      ],
      "metadata": {
        "id": "MO2dFS6eugmm"
      },
      "execution_count": null,
      "outputs": []
    },
    {
      "cell_type": "code",
      "source": [
        "# Evaluation Metrics for Linear Regression\n",
        "print(\"Linear Regression Metrics:\")\n",
        "print(\"MAE:\", mean_absolute_error(y_test, y_pred))\n",
        "print(\"MAPE:\", mean_absolute_percentage_error(y_test, y_pred))\n",
        "print(\"R2 Score:\", r2_score(y_test, y_pred))"
      ],
      "metadata": {
        "colab": {
          "base_uri": "https://localhost:8080/"
        },
        "id": "6inHZZd0ukM-",
        "outputId": "7369ef8a-8285-44ec-cb5d-a44e0aa5c45e"
      },
      "execution_count": null,
      "outputs": [
        {
          "output_type": "stream",
          "name": "stdout",
          "text": [
            "Linear Regression Metrics:\n",
            "MAE: 3.3286968643244106\n",
            "MAPE: 0.14713035779536746\n",
            "R2 Score: 0.7031250746717691\n"
          ]
        }
      ]
    },
    {
      "cell_type": "code",
      "execution_count": null,
      "metadata": {
        "colab": {
          "base_uri": "https://localhost:8080/"
        },
        "id": "X85GeEsKjIVm",
        "outputId": "4bcfdf43-d4c2-4914-9180-17a5b7794d40"
      },
      "outputs": [
        {
          "output_type": "stream",
          "name": "stdout",
          "text": [
            "\n",
            "Polynomial Regression Metrics:\n",
            "MAE: 2.7887147720295977\n",
            "MAPE: 0.12074018342938687\n",
            "R2 Score: 0.7461731314563803\n"
          ]
        }
      ],
      "source": [
        "# Polynomial Regression\n",
        "poly = PolynomialFeatures(degree=2, interaction_only=True, include_bias=False)\n",
        "X_train_poly = poly.fit_transform(X_train)\n",
        "X_test_poly = poly.transform(X_test)\n",
        "\n",
        "lr_poly = LinearRegression()\n",
        "lr_poly.fit(X_train_poly, y_train)\n",
        "y_pred_poly = lr_poly.predict(X_test_poly)\n",
        "\n",
        "# Evaluation Metrics for Polynomial Regression\n",
        "print(\"\\nPolynomial Regression Metrics:\")\n",
        "print(\"MAE:\", mean_absolute_error(y_test, y_pred_poly))\n",
        "print(\"MAPE:\", mean_absolute_percentage_error(y_test, y_pred_poly))\n",
        "print(\"R2 Score:\", r2_score(y_test, y_pred_poly))\n",
        "\n"
      ]
    },
    {
      "cell_type": "code",
      "source": [
        "# Saving the model and scaler\n",
        "joblib.dump(lr_poly, 'mpg_model.joblib')\n",
        "joblib.dump(ss, 'scaler.joblib')\n",
        "joblib.dump(poly, 'poly_transform.joblib')  # Save polynomial feature transformation\n",
        "\n",
        "# Loading the model and scaler\n",
        "model = joblib.load('mpg_model.joblib')\n",
        "scaler = joblib.load('scaler.joblib')\n",
        "poly = joblib.load('poly_transform.joblib')  # Load polynomial feature transformation\n",
        "\n",
        "# Predicting for new data\n",
        "new_person_data = np.array([297.0,140.0,3130,14.6]).reshape(1, -1)\n",
        "\n",
        "# Scale the input data\n",
        "new_person_data_scaled = scaler.transform(new_person_data)\n",
        "\n",
        "# Apply polynomial feature transformation\n",
        "new_person_data_poly = poly.transform(new_person_data_scaled)\n",
        "\n",
        "# Make predictions using the loaded model\n",
        "predicted_class = model.predict(new_person_data_poly)\n",
        "\n",
        "print(\"\\nPredicted MPG for the new data:\", predicted_class[0])"
      ],
      "metadata": {
        "colab": {
          "base_uri": "https://localhost:8080/"
        },
        "id": "h57c0sM40yLu",
        "outputId": "00fa4d50-dbab-4e6e-f90f-8080d815aad7"
      },
      "execution_count": null,
      "outputs": [
        {
          "output_type": "stream",
          "name": "stdout",
          "text": [
            "\n",
            "Predicted MPG for the new data: 15.572627898463637\n"
          ]
        },
        {
          "output_type": "stream",
          "name": "stderr",
          "text": [
            "/usr/local/lib/python3.10/dist-packages/sklearn/base.py:439: UserWarning: X does not have valid feature names, but StandardScaler was fitted with feature names\n",
            "  warnings.warn(\n"
          ]
        }
      ]
    }
  ]
}